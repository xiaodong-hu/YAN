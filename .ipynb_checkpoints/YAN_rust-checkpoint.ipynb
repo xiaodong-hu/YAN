{
 "cells": [
  {
   "cell_type": "code",
   "execution_count": null,
   "id": "11dcd423-2188-4f40-8d7a-d40970ba8562",
   "metadata": {},
   "outputs": [],
   "source": []
  }
 ],
 "metadata": {
  "kernelspec": {
   "display_name": "Rust",
   "language": "rust",
   "name": "rust"
  },
  "language_info": {
   "codemirror_mode": "rust",
   "file_extension": ".rs",
   "mimetype": "text/rust",
   "name": "Rust",
   "pygment_lexer": "rust",
   "version": ""
  }
 },
 "nbformat": 4,
 "nbformat_minor": 5
}
